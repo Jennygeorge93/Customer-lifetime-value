{
 "cells": [
  {
   "cell_type": "code",
   "execution_count": 1,
   "metadata": {},
   "outputs": [
    {
     "data": {
      "text/html": [
       "<div>\n",
       "<style scoped>\n",
       "    .dataframe tbody tr th:only-of-type {\n",
       "        vertical-align: middle;\n",
       "    }\n",
       "\n",
       "    .dataframe tbody tr th {\n",
       "        vertical-align: top;\n",
       "    }\n",
       "\n",
       "    .dataframe thead th {\n",
       "        text-align: right;\n",
       "    }\n",
       "</style>\n",
       "<table border=\"1\" class=\"dataframe\">\n",
       "  <thead>\n",
       "    <tr style=\"text-align: right;\">\n",
       "      <th></th>\n",
       "      <th>Unnamed: 0</th>\n",
       "      <th>TransactionId</th>\n",
       "      <th>CardNo</th>\n",
       "      <th>TransacionDate</th>\n",
       "      <th>ProdcutId</th>\n",
       "      <th>productname</th>\n",
       "      <th>productDescription</th>\n",
       "      <th>itemcode</th>\n",
       "      <th>ProductCategory</th>\n",
       "      <th>ProductSubCategory</th>\n",
       "      <th>quantity</th>\n",
       "      <th>SellingPrice</th>\n",
       "      <th>purchaseprice</th>\n",
       "    </tr>\n",
       "  </thead>\n",
       "  <tbody>\n",
       "    <tr>\n",
       "      <th>0</th>\n",
       "      <td>0</td>\n",
       "      <td>10115</td>\n",
       "      <td>5.456510e+14</td>\n",
       "      <td>2017-03-25 22:28:48.640</td>\n",
       "      <td>5</td>\n",
       "      <td>Shirt</td>\n",
       "      <td>Shirt</td>\n",
       "      <td>se2313</td>\n",
       "      <td>Dress</td>\n",
       "      <td>Mens wear</td>\n",
       "      <td>1.0</td>\n",
       "      <td>799.00</td>\n",
       "      <td>775.03</td>\n",
       "    </tr>\n",
       "    <tr>\n",
       "      <th>1</th>\n",
       "      <td>1</td>\n",
       "      <td>10115</td>\n",
       "      <td>5.456510e+14</td>\n",
       "      <td>2017-03-25 22:28:48.640</td>\n",
       "      <td>6</td>\n",
       "      <td>Shorts</td>\n",
       "      <td>Shorts</td>\n",
       "      <td>sd2332</td>\n",
       "      <td>Dress</td>\n",
       "      <td>Mens wear</td>\n",
       "      <td>1.0</td>\n",
       "      <td>599.99</td>\n",
       "      <td>581.99</td>\n",
       "    </tr>\n",
       "    <tr>\n",
       "      <th>2</th>\n",
       "      <td>2</td>\n",
       "      <td>10115</td>\n",
       "      <td>5.456510e+14</td>\n",
       "      <td>2017-03-25 22:28:48.640</td>\n",
       "      <td>48</td>\n",
       "      <td>Rayban Women's Sunglasses</td>\n",
       "      <td>Rayban Women's Sunglasses</td>\n",
       "      <td>raywms1234</td>\n",
       "      <td>Fashion</td>\n",
       "      <td>Latest Fashions</td>\n",
       "      <td>1.0</td>\n",
       "      <td>250.00</td>\n",
       "      <td>242.50</td>\n",
       "    </tr>\n",
       "    <tr>\n",
       "      <th>3</th>\n",
       "      <td>3</td>\n",
       "      <td>10115</td>\n",
       "      <td>5.456510e+14</td>\n",
       "      <td>2017-03-25 22:28:48.640</td>\n",
       "      <td>47</td>\n",
       "      <td>Rayban Wayfarer Sunglasses</td>\n",
       "      <td>Rayban Wayfarer Sunglasses</td>\n",
       "      <td>rayws1234</td>\n",
       "      <td>Fashion</td>\n",
       "      <td>Latest Fashions</td>\n",
       "      <td>1.0</td>\n",
       "      <td>125.00</td>\n",
       "      <td>121.25</td>\n",
       "    </tr>\n",
       "    <tr>\n",
       "      <th>4</th>\n",
       "      <td>4</td>\n",
       "      <td>10115</td>\n",
       "      <td>5.456510e+14</td>\n",
       "      <td>2017-03-25 22:28:48.640</td>\n",
       "      <td>1098</td>\n",
       "      <td>Shirt</td>\n",
       "      <td>NaN</td>\n",
       "      <td>2</td>\n",
       "      <td>Gents</td>\n",
       "      <td>Common</td>\n",
       "      <td>1.0</td>\n",
       "      <td>60.00</td>\n",
       "      <td>0.00</td>\n",
       "    </tr>\n",
       "  </tbody>\n",
       "</table>\n",
       "</div>"
      ],
      "text/plain": [
       "   Unnamed: 0  TransactionId        CardNo           TransacionDate  \\\n",
       "0           0          10115  5.456510e+14  2017-03-25 22:28:48.640   \n",
       "1           1          10115  5.456510e+14  2017-03-25 22:28:48.640   \n",
       "2           2          10115  5.456510e+14  2017-03-25 22:28:48.640   \n",
       "3           3          10115  5.456510e+14  2017-03-25 22:28:48.640   \n",
       "4           4          10115  5.456510e+14  2017-03-25 22:28:48.640   \n",
       "\n",
       "   ProdcutId                 productname          productDescription  \\\n",
       "0          5                       Shirt                       Shirt   \n",
       "1          6                      Shorts                      Shorts   \n",
       "2         48   Rayban Women's Sunglasses   Rayban Women's Sunglasses   \n",
       "3         47  Rayban Wayfarer Sunglasses  Rayban Wayfarer Sunglasses   \n",
       "4       1098                       Shirt                         NaN   \n",
       "\n",
       "     itemcode ProductCategory ProductSubCategory  quantity  SellingPrice  \\\n",
       "0      se2313           Dress          Mens wear       1.0        799.00   \n",
       "1      sd2332           Dress          Mens wear       1.0        599.99   \n",
       "2  raywms1234         Fashion    Latest Fashions       1.0        250.00   \n",
       "3   rayws1234         Fashion    Latest Fashions       1.0        125.00   \n",
       "4           2           Gents             Common       1.0         60.00   \n",
       "\n",
       "   purchaseprice  \n",
       "0         775.03  \n",
       "1         581.99  \n",
       "2         242.50  \n",
       "3         121.25  \n",
       "4           0.00  "
      ]
     },
     "execution_count": 1,
     "metadata": {},
     "output_type": "execute_result"
    }
   ],
   "source": [
    "import pandas as pd\n",
    "import warnings\n",
    "\n",
    "\n",
    "warnings.filterwarnings('ignore')\n",
    "df = pd.read_csv(\"purchase_time_series.csv\")\n",
    "df.head()"
   ]
  },
  {
   "cell_type": "code",
   "execution_count": 2,
   "metadata": {},
   "outputs": [],
   "source": [
    "import datetime as dt\n",
    "df['TransacionDate'] = pd.to_datetime(df['TransacionDate']).dt.date\n",
    "df = df[pd.notnull(df['CardNo'])]"
   ]
  },
  {
   "cell_type": "code",
   "execution_count": 3,
   "metadata": {},
   "outputs": [],
   "source": [
    "cols_of_interest = ['CardNo', 'TransacionDate', 'SellingPrice']\n",
    "df = df[cols_of_interest]"
   ]
  },
  {
   "cell_type": "code",
   "execution_count": 4,
   "metadata": {},
   "outputs": [
    {
     "name": "stdout",
     "output_type": "stream",
     "text": [
      "22006\n"
     ]
    }
   ],
   "source": [
    "\n",
    "import csv\n",
    "df=df.sort_values('TransacionDate')\n",
    "\n",
    "print(df['CardNo'].nunique())"
   ]
  },
  {
   "cell_type": "code",
   "execution_count": 22,
   "metadata": {},
   "outputs": [
    {
     "data": {
      "text/html": [
       "<div>\n",
       "<style scoped>\n",
       "    .dataframe tbody tr th:only-of-type {\n",
       "        vertical-align: middle;\n",
       "    }\n",
       "\n",
       "    .dataframe tbody tr th {\n",
       "        vertical-align: top;\n",
       "    }\n",
       "\n",
       "    .dataframe thead th {\n",
       "        text-align: right;\n",
       "    }\n",
       "</style>\n",
       "<table border=\"1\" class=\"dataframe\">\n",
       "  <thead>\n",
       "    <tr style=\"text-align: right;\">\n",
       "      <th></th>\n",
       "      <th>frequency</th>\n",
       "      <th>recency</th>\n",
       "      <th>T</th>\n",
       "      <th>monetary_value</th>\n",
       "    </tr>\n",
       "    <tr>\n",
       "      <th>CardNo</th>\n",
       "      <th></th>\n",
       "      <th></th>\n",
       "      <th></th>\n",
       "      <th></th>\n",
       "    </tr>\n",
       "  </thead>\n",
       "  <tbody>\n",
       "    <tr>\n",
       "      <th>5.456688e+08</th>\n",
       "      <td>12.0</td>\n",
       "      <td>159.0</td>\n",
       "      <td>343.0</td>\n",
       "      <td>97.072500</td>\n",
       "    </tr>\n",
       "    <tr>\n",
       "      <th>5.456688e+08</th>\n",
       "      <td>14.0</td>\n",
       "      <td>161.0</td>\n",
       "      <td>351.0</td>\n",
       "      <td>238.172143</td>\n",
       "    </tr>\n",
       "    <tr>\n",
       "      <th>5.456689e+08</th>\n",
       "      <td>14.0</td>\n",
       "      <td>169.0</td>\n",
       "      <td>358.0</td>\n",
       "      <td>72.727143</td>\n",
       "    </tr>\n",
       "    <tr>\n",
       "      <th>5.456689e+08</th>\n",
       "      <td>21.0</td>\n",
       "      <td>183.0</td>\n",
       "      <td>335.0</td>\n",
       "      <td>59.570000</td>\n",
       "    </tr>\n",
       "    <tr>\n",
       "      <th>5.456615e+09</th>\n",
       "      <td>14.0</td>\n",
       "      <td>167.0</td>\n",
       "      <td>349.0</td>\n",
       "      <td>59.793571</td>\n",
       "    </tr>\n",
       "  </tbody>\n",
       "</table>\n",
       "</div>"
      ],
      "text/plain": [
       "              frequency  recency      T  monetary_value\n",
       "CardNo                                                 \n",
       "5.456688e+08       12.0    159.0  343.0       97.072500\n",
       "5.456688e+08       14.0    161.0  351.0      238.172143\n",
       "5.456689e+08       14.0    169.0  358.0       72.727143\n",
       "5.456689e+08       21.0    183.0  335.0       59.570000\n",
       "5.456615e+09       14.0    167.0  349.0       59.793571"
      ]
     },
     "execution_count": 22,
     "metadata": {},
     "output_type": "execute_result"
    }
   ],
   "source": [
    "from lifetimes.plotting import *\n",
    "from lifetimes.utils import *\n",
    "from lifetimes.estimation import *\n",
    "data = summary_data_from_transaction_data(df, 'CardNo', 'TransacionDate', monetary_value_col='SellingPrice', observation_period_end='2018-03-12')\n",
    "data.head()"
   ]
  },
  {
   "cell_type": "code",
   "execution_count": 23,
   "metadata": {},
   "outputs": [
    {
     "name": "stdout",
     "output_type": "stream",
     "text": [
      "count    20017.000000\n",
      "mean        13.745616\n",
      "std          0.973846\n",
      "min          1.000000\n",
      "25%         13.000000\n",
      "50%         14.000000\n",
      "75%         14.000000\n",
      "max         22.000000\n",
      "Name: frequency, dtype: float64\n"
     ]
    },
    {
     "data": {
      "image/png": "[encoded data removed]",
      "text/plain": [
       "<Figure size 432x288 with 1 Axes>"
      ]
     },
     "metadata": {},
     "output_type": "display_data"
    }
   ],
   "source": [
    "#data['frequency'].plot(kind='hist', bins=50)\n",
    "data[data['frequency'] > 0]['frequency'].plot(kind='hist', bins=20)\n",
    "print data[data['frequency'] > 0]['frequency'].describe()"
   ]
  },
  {
   "cell_type": "code",
   "execution_count": 24,
   "metadata": {},
   "outputs": [
    {
     "name": "stdout",
     "output_type": "stream",
     "text": [
      "<lifetimes.BetaGeoFitter: fitted with 20313 subjects, a: 26884300.27, alpha: 1419971009.79, b: 357669627.04, r: 119932921.12>\n"
     ]
    }
   ],
   "source": [
    "from lifetimes import BetaGeoFitter\n",
    "bgf = BetaGeoFitter(penalizer_coef=0.0)\n",
    "bgf.fit(data['frequency'], data['recency'], data['T'])\n",
    "print(bgf)"
   ]
  },
  {
   "cell_type": "code",
   "execution_count": 25,
   "metadata": {},
   "outputs": [
    {
     "data": {
      "text/plain": [
       "<matplotlib.axes._subplots.AxesSubplot at 0x7fbfa55b5150>"
      ]
     },
     "execution_count": 25,
     "metadata": {},
     "output_type": "execute_result"
    },
    {
     "data": {
      "image/png": "[encoded data removed]",
      "text/plain": [
       "<Figure size 1008x288 with 1 Axes>"
      ]
     },
     "metadata": {},
     "output_type": "display_data"
    },
    {
     "data": {
      "image/png": "[encoded data removed]",
      "text/plain": [
       "<Figure size 864x576 with 2 Axes>"
      ]
     },
     "metadata": {},
     "output_type": "display_data"
    }
   ],
   "source": [
    "import matplotlib.pyplot as plt\n",
    "from scipy.stats import beta, gamma, invgamma, norm\n",
    "gbd = beta.rvs(bgf.params_['a'], bgf.params_['b'], size = 50000)\n",
    "ggd = gamma.rvs(bgf.params_['r'], scale=1./bgf.params_['alpha'], size = 50000)\n",
    "plt.figure(figsize=(14,4))\n",
    "plt.subplot(121)\n",
    "plt.title('Heterogenity of $p$')\n",
    "temp = plt.hist(gbd, 20, facecolor='pink', alpha=0.75)\n",
    "from lifetimes.plotting import plot_frequency_recency_matrix\n",
    "import matplotlib.pyplot as plt\n",
    "fig = plt.figure(figsize=(12,8))\n",
    "plot_frequency_recency_matrix(bgf)"
   ]
  },
  {
   "cell_type": "code",
   "execution_count": 26,
   "metadata": {},
   "outputs": [
    {
     "data": {
      "text/plain": [
       "545668900.0"
      ]
     },
     "execution_count": 26,
     "metadata": {},
     "output_type": "execute_result"
    }
   ],
   "source": [
    "#from lifetimes.plotting import plot_probability_alive_matrix\n",
    "#fig = plt.figure(figsize=(12,8))\n",
    "#plot_probability_alive_matrix(bgf)\n",
    "live=bgf.conditional_probability_alive(data['frequency'],\n",
    "                                  data['recency'],\n",
    "                                  data['T'])\n",
    "\n",
    "alive=pd.DataFrame({'CardNum':data.index,'live_prob':live})\n",
    "alive\n",
    "alive['CardNum'][2]"
   ]
  },
  {
   "cell_type": "code",
   "execution_count": null,
   "metadata": {},
   "outputs": [],
   "source": []
  },
  {
   "cell_type": "code",
   "execution_count": 27,
   "metadata": {},
   "outputs": [],
   "source": [
    "t = 30 # days\n",
    "c=bgf.conditional_expected_number_of_purchases_up_to_time(t,\n",
    "                                                        data['frequency'],\n",
    "                                                        data['recency'],\n",
    "                                                        data['T'])\n",
    "#print(c)\n",
    "\n",
    "\n",
    "#from lifetimes.plotting import plot_period_transactions\n",
    "#plot_period_transactions(bgf)"
   ]
  },
  {
   "cell_type": "code",
   "execution_count": null,
   "metadata": {},
   "outputs": [],
   "source": []
  },
  {
   "cell_type": "code",
   "execution_count": 30,
   "metadata": {},
   "outputs": [
    {
     "name": "stdout",
     "output_type": "stream",
     "text": [
      "              frequency_cal  recency_cal  T_cal  frequency_holdout  \\\n",
      "CardNo                                                               \n",
      "5.456688e+08            7.0        107.0  110.0                5.0   \n",
      "5.456688e+08           12.0        110.0  118.0                2.0   \n",
      "5.456689e+08            8.0        111.0  125.0                6.0   \n",
      "5.456689e+08            8.0         95.0  102.0               13.0   \n",
      "5.456615e+09            9.0         79.0  116.0                5.0   \n",
      "\n",
      "              duration_holdout  \n",
      "CardNo                          \n",
      "5.456688e+08               233  \n",
      "5.456688e+08               233  \n",
      "5.456689e+08               233  \n",
      "5.456689e+08               233  \n",
      "5.456615e+09               233  \n"
     ]
    }
   ],
   "source": [
    "\n",
    "\n",
    "\n",
    "from lifetimes.utils import calibration_and_holdout_data\n",
    "summary_cal_holdout = calibration_and_holdout_data(df, 'CardNo', 'TransacionDate',\n",
    "                                        calibration_period_end='2017-07-22 ',\n",
    "                                        observation_period_end='2018-03-12' )   \n",
    "print(summary_cal_holdout.head())"
   ]
  },
  {
   "cell_type": "code",
   "execution_count": 1,
   "metadata": {},
   "outputs": [],
   "source": [
    "#from lifetimes.plotting import plot_calibration_purchases_vs_holdout_purchases\n",
    "#bgf.fit(summary_cal_holdout['frequency_cal'], summary_cal_holdout['recency_cal'], summary_cal_holdout['T_cal'])\n",
    "#plot_calibration_purchases_vs_holdout_purchases(bgf, summary_cal_holdout)"
   ]
  },
  {
   "cell_type": "code",
   "execution_count": 31,
   "metadata": {},
   "outputs": [
    {
     "data": {
      "text/plain": [
       "1.9433278018112302e-06"
      ]
     },
     "execution_count": 31,
     "metadata": {},
     "output_type": "execute_result"
    }
   ],
   "source": [
    "t = 10\n",
    "individual = data.loc[545651023457116]\n",
    "bgf.predict(t, individual['frequency'], individual['recency'], individual['T'])"
   ]
  },
  {
   "cell_type": "code",
   "execution_count": 32,
   "metadata": {},
   "outputs": [
    {
     "data": {
      "text/plain": [
       "<matplotlib.axes._subplots.AxesSubplot at 0x7fbfa7b59bd0>"
      ]
     },
     "execution_count": 32,
     "metadata": {},
     "output_type": "execute_result"
    },
    {
     "data": {
      "image/png": "[encoded data removed]",
      "text/plain": [
       "<Figure size 864x576 with 1 Axes>"
      ]
     },
     "metadata": {},
     "output_type": "display_data"
    }
   ],
   "source": [
    "from lifetimes.plotting import plot_history_alive\n",
    "import matplotlib.pyplot as plt\n",
    "fig = plt.figure(figsize=(12,8))\n",
    "id = 5456667383\n",
    "days_since_birth = 365\n",
    "sp_trans = df.loc[df['CardNo'] == id]\n",
    "plot_history_alive(bgf, days_since_birth, sp_trans, 'TransacionDate')"
   ]
  },
  {
   "cell_type": "code",
   "execution_count": 33,
   "metadata": {},
   "outputs": [
    {
     "data": {
      "text/plain": [
       "<matplotlib.axes._subplots.AxesSubplot at 0x7fbfa0ed1250>"
      ]
     },
     "execution_count": 33,
     "metadata": {},
     "output_type": "execute_result"
    },
    {
     "data": {
      "image/png": "[encoded data removed]",
      "text/plain": [
       "<Figure size 864x576 with 1 Axes>"
      ]
     },
     "metadata": {},
     "output_type": "display_data"
    }
   ],
   "source": [
    "fig = plt.figure(figsize=(12,8))\n",
    "id = 5456634114\n",
    "days_since_birth = 365\n",
    "sp_trans = df.loc[df['CardNo'] == id]\n",
    "plot_history_alive(bgf, days_since_birth, sp_trans, 'TransacionDate')"
   ]
  },
  {
   "cell_type": "code",
   "execution_count": 34,
   "metadata": {},
   "outputs": [
    {
     "name": "stdout",
     "output_type": "stream",
     "text": [
      "              frequency  recency      T  monetary_value\n",
      "CardNo                                                 \n",
      "5.456688e+08       12.0    159.0  343.0       97.072500\n",
      "5.456688e+08       14.0    161.0  351.0      238.172143\n",
      "5.456689e+08       14.0    169.0  358.0       72.727143\n",
      "5.456689e+08       21.0    183.0  335.0       59.570000\n",
      "5.456615e+09       14.0    167.0  349.0       59.793571\n"
     ]
    }
   ],
   "source": [
    "returning_customers_summary = data[data['frequency']>0]\n",
    "print(returning_customers_summary.head())\n"
   ]
  },
  {
   "cell_type": "code",
   "execution_count": 35,
   "metadata": {},
   "outputs": [
    {
     "name": "stdout",
     "output_type": "stream",
     "text": [
      "20017\n"
     ]
    }
   ],
   "source": [
    "print(len(returning_customers_summary))"
   ]
  },
  {
   "cell_type": "code",
   "execution_count": 36,
   "metadata": {},
   "outputs": [
    {
     "name": "stdout",
     "output_type": "stream",
     "text": [
      "<lifetimes.GammaGammaFitter: fitted with 20017 subjects, p: 5325.77, q: 6.82, v: 0.11>\n"
     ]
    }
   ],
   "source": [
    "from lifetimes import GammaGammaFitter\n",
    "ggf = GammaGammaFitter(penalizer_coef = 0)\n",
    "ggf.fit(returning_customers_summary['frequency'],\n",
    "        returning_customers_summary['monetary_value'])\n",
    "print(ggf)"
   ]
  },
  {
   "cell_type": "code",
   "execution_count": 18,
   "metadata": {},
   "outputs": [
    {
     "name": "stdout",
     "output_type": "stream",
     "text": [
      "CardNo\n",
      "5.456688e+08     97.072672\n",
      "5.456688e+08    238.163509\n",
      "5.456689e+08     72.728805\n",
      "5.456689e+08     59.571654\n",
      "5.456615e+09     59.796039\n",
      "dtype: float64\n"
     ]
    }
   ],
   "source": [
    "print(ggf.conditional_expected_average_profit(\n",
    "        data['frequency'],\n",
    "        data['monetary_value']\n",
    "    ).head())"
   ]
  },
  {
   "cell_type": "code",
   "execution_count": null,
   "metadata": {},
   "outputs": [],
   "source": [
    "\n"
   ]
  },
  {
   "cell_type": "code",
   "execution_count": 37,
   "metadata": {},
   "outputs": [
    {
     "name": "stdout",
     "output_type": "stream",
     "text": [
      "CardNo\n",
      "5.456688e+08    0.002882\n",
      "5.456688e+08    0.004273\n",
      "5.456689e+08    0.001419\n",
      "5.456689e+08    0.025970\n",
      "5.456615e+09    0.002100\n",
      "5.456615e+09    0.001653\n",
      "5.456615e+09    0.002890\n",
      "5.456615e+09    0.000842\n",
      "5.456615e+09    0.003006\n",
      "5.456615e+09    0.001907\n",
      "Name: clv, dtype: float64\n"
     ]
    }
   ],
   "source": [
    "bgf.fit(data['frequency'], data['recency'],data['T'])\n",
    "print(ggf.customer_lifetime_value(\n",
    "bgf, #the model to use to predict the number of future transactions\n",
    "data['frequency'],\n",
    "data['recency'],\n",
    "data['T'],\n",
    "data['monetary_value'],time=12,discount_rate=0.01).head(10))"
   ]
  },
  {
   "cell_type": "code",
   "execution_count": 38,
   "metadata": {},
   "outputs": [
    {
     "name": "stdout",
     "output_type": "stream",
     "text": [
      "<lifetimes.GammaGammaFitter: fitted with 20017 subjects, p: 5764.63, q: 6.82, v: 0.06>\n"
     ]
    }
   ],
   "source": [
    "ggf = GammaGammaFitter(penalizer_coef = 0)\n",
    "ret_cust_data = data[data['frequency'] > 0] # only look at customers with repeat purchases\n",
    "ret_cust_data['monetary_value'] = ret_cust_data['monetary_value']*0.55 # Set Monetary value to gross profit only (see below)\n",
    "ggf.fit(ret_cust_data['frequency'], ret_cust_data['monetary_value'])\n",
    "p,q,v = ggf._unload_params('p', 'q', 'v')\n",
    "print (ggf)"
   ]
  },
  {
   "cell_type": "code",
   "execution_count": 39,
   "metadata": {},
   "outputs": [
    {
     "name": "stdout",
     "output_type": "stream",
     "text": [
      "Expected conditional Average profit: CardNo\n",
      "5.456688e+08      53.389971\n",
      "5.456688e+08     130.989164\n",
      "5.456689e+08      40.000977\n",
      "5.456689e+08      32.764547\n",
      "5.456615e+09      32.888026\n",
      "5.456615e+09     127.629299\n",
      "5.456615e+09      45.256241\n",
      "5.456615e+09     107.584817\n",
      "5.456615e+09      39.795528\n",
      "5.456615e+09      53.767270\n",
      "5.456615e+09      53.271829\n",
      "5.456615e+09     111.684149\n",
      "5.456615e+09      37.485301\n",
      "5.456615e+09      43.757992\n",
      "5.456615e+09      35.431638\n",
      "5.456615e+09      34.080261\n",
      "5.456615e+09      47.177566\n",
      "5.456615e+09      55.762105\n",
      "5.456615e+09      30.574264\n",
      "5.456615e+09      82.997188\n",
      "5.456615e+09      40.972016\n",
      "5.456615e+09      42.201211\n",
      "5.456615e+09      34.078690\n",
      "5.456615e+09      54.920432\n",
      "5.456615e+09      28.905527\n",
      "5.456615e+09      34.601109\n",
      "5.456615e+09      40.440056\n",
      "5.456615e+09      39.144610\n",
      "5.456615e+09     106.777596\n",
      "5.456615e+09      45.670030\n",
      "                   ...     \n",
      "5.456683e+09     112.080574\n",
      "5.456683e+09     124.816252\n",
      "5.456683e+09      54.425651\n",
      "5.456683e+09      45.480939\n",
      "5.456683e+09      48.576463\n",
      "5.456683e+09      56.213415\n",
      "5.456683e+09      57.703414\n",
      "5.456683e+09      48.651853\n",
      "5.456683e+09      42.618788\n",
      "5.456683e+09      27.562446\n",
      "5.456683e+09      43.325094\n",
      "5.456683e+09      47.410514\n",
      "5.456683e+09      40.694729\n",
      "5.456683e+09      38.494871\n",
      "5.456683e+09      39.280529\n",
      "5.456510e+14      53.870435\n",
      "5.456510e+14      27.292102\n",
      "5.456510e+14      32.230105\n",
      "5.456510e+14      36.815079\n",
      "5.456510e+14      35.433298\n",
      "5.456510e+14      32.483961\n",
      "5.456510e+14      48.848849\n",
      "5.456510e+14      30.107534\n",
      "5.456510e+14      49.220395\n",
      "5.456510e+14      72.148743\n",
      "5.456510e+14      32.052801\n",
      "5.456510e+14     237.155019\n",
      "5.456510e+14      98.841917\n",
      "5.456510e+14     319.384094\n",
      "9.790020e+15    1496.598461\n",
      "Length: 20017, dtype: float64, Population Average profit 54.5364934451, Average profit: 55.5448105293\n"
     ]
    }
   ],
   "source": [
    "avg_cond_profit = ggf.conditional_expected_average_profit(ret_cust_data['frequency'], ret_cust_data['monetary_value'])\n",
    "print \"Expected conditional Average profit: %s, Population Average profit %s, Average profit: %s\" % (\n",
    " avg_cond_profit, \n",
    " (p*v)/(q-1),\n",
    " ret_cust_data['monetary_value'].mean()\n",
    ")"
   ]
  },
  {
   "cell_type": "code",
   "execution_count": null,
   "metadata": {},
   "outputs": [],
   "source": []
  },
  {
   "cell_type": "code",
   "execution_count": null,
   "metadata": {},
   "outputs": [],
   "source": []
  }
 ],
 "metadata": {
  "kernelspec": {
   "display_name": "Python 2",
   "language": "python",
   "name": "python2"
  },
  "language_info": {
   "codemirror_mode": {
    "name": "ipython",
    "version": 2
   },
   "file_extension": ".py",
   "mimetype": "text/x-python",
   "name": "python",
   "nbconvert_exporter": "python",
   "pygments_lexer": "ipython2",
   "version": "2.7.12"
  }
 },
 "nbformat": 4,
 "nbformat_minor": 2
}
